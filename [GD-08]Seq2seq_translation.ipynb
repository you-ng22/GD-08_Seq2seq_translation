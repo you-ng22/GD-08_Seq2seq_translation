{
 "cells": [
  {
   "cell_type": "markdown",
   "id": "f3c090da",
   "metadata": {},
   "source": [
    "# Seq2seq 기반 번역기 만들기"
   ]
  },
  {
   "cell_type": "markdown",
   "id": "ca81b3bd",
   "metadata": {},
   "source": [
    "Attention Map을 확인하기 위해 한국어를 지원하는 폰트로 변경"
   ]
  },
  {
   "cell_type": "code",
   "execution_count": 1,
   "id": "d4815361",
   "metadata": {},
   "outputs": [
    {
     "name": "stdout",
     "output_type": "stream",
     "text": [
      "완료!\n"
     ]
    }
   ],
   "source": [
    "import matplotlib as mpl\n",
    "import matplotlib.pyplot as plt\n",
    " \n",
    "%config InlineBackend.figure_format = 'retina'\n",
    " \n",
    "import matplotlib.font_manager as fm\n",
    "fontpath = '/usr/share/fonts/truetype/nanum/NanumBarunGothic.ttf'\n",
    "font = fm.FontProperties(fname=fontpath, size=9)\n",
    "plt.rc('font', family='NanumBarunGothic') \n",
    "mpl.font_manager.findfont(font)\n",
    "\n",
    "print(\"완료!\")"
   ]
  },
  {
   "cell_type": "markdown",
   "id": "cd814971",
   "metadata": {},
   "source": [
    "## 데이터 전처리"
   ]
  },
  {
   "cell_type": "code",
   "execution_count": 2,
   "id": "b4608afb",
   "metadata": {},
   "outputs": [
    {
     "name": "stdout",
     "output_type": "stream",
     "text": [
      "2.6.0\n"
     ]
    }
   ],
   "source": [
    "import tensorflow as tf\n",
    "import numpy as np\n",
    "\n",
    "from sklearn.model_selection import train_test_split\n",
    "\n",
    "import matplotlib.ticker as ticker\n",
    "import matplotlib.pyplot as plt\n",
    "\n",
    "import time\n",
    "import re\n",
    "import os\n",
    "import io\n",
    "\n",
    "from konlpy.tag import Mecab\n",
    "from tqdm import tqdm    # tqdm\n",
    "import random\n",
    "\n",
    "print(tf.__version__)"
   ]
  },
  {
   "cell_type": "code",
   "execution_count": 3,
   "id": "f3cab88f",
   "metadata": {},
   "outputs": [
    {
     "name": "stdout",
     "output_type": "stream",
     "text": [
      "Data Size: 94123\n",
      "Example:\n",
      ">> 개인용 컴퓨터 사용의 상당 부분은 \"이것보다 뛰어날 수 있느냐?\"\n",
      ">> 북한의 핵무기 계획을 포기하도록 하려는 압력이 거세지고 있는 가운데, 일본과 북한의 외교관들이 외교 관계를 정상화하려는 회담을 재개했다.\n",
      ">> \"경호 로보트가 침입자나 화재를 탐지하기 위해서 개인적으로, 그리고 전문적으로 사용되고 있습니다.\"\n",
      ">> 수자원부 당국은 논란이 되고 있고, 막대한 비용이 드는 이 사업에 대해 내년에 건설을 시작할 계획이다.\n",
      ">> 또한 근력 운동은 활발하게 걷는 것이나 최소한 20분 동안 뛰는 것과 같은 유산소 활동에서 얻는 운동 효과를 심장과 폐에 주지 않기 때문에, 연구학자들은 근력 운동이 심장에 큰 영향을 미치는지 여부에 대해 논쟁을 해왔다.\n"
     ]
    }
   ],
   "source": [
    "path_to_file = os.getenv('HOME') + '/aiffel/s2s_translation/train.ko'\n",
    "\n",
    "with open(path_to_file, \"r\") as f:\n",
    "    raw_train_ko = f.read().splitlines()\n",
    "\n",
    "print(\"Data Size:\", len(raw_train_ko))\n",
    "\n",
    "print(\"Example:\")\n",
    "for sen in raw_train_ko[0:100][::20]: print(\">>\", sen)"
   ]
  },
  {
   "cell_type": "code",
   "execution_count": 4,
   "id": "c18da57f",
   "metadata": {},
   "outputs": [
    {
     "name": "stdout",
     "output_type": "stream",
     "text": [
      "Data Size: 94123\n",
      "Example:\n",
      ">> Much of personal computing is about \"can you top this?\"\n",
      ">> Amid mounting pressure on North Korea to abandon its nuclear weapons program Japanese and North Korean diplomats have resumed talks on normalizing diplomatic relations.\n",
      ">> “Guard robots are used privately and professionally to detect intruders or fire,” Karlsson said.\n",
      ">> Authorities from the Water Resources Ministry plan to begin construction next year on the controversial and hugely expensive project.\n",
      ">> Researchers also have debated whether weight-training has a big impact on the heart, since it does not give the heart and lungs the kind of workout they get from aerobic activities such as brisk walking or running for at least 20 minutes.\n"
     ]
    }
   ],
   "source": [
    "path_to_file = os.getenv('HOME') + '/aiffel/s2s_translation/train.en'\n",
    "\n",
    "with open(path_to_file, \"r\") as f:\n",
    "    raw_train_en = f.read().splitlines()\n",
    "\n",
    "print(\"Data Size:\", len(raw_train_en))\n",
    "\n",
    "print(\"Example:\")\n",
    "for sen in raw_train_en[0:100][::20]: print(\">>\", sen)"
   ]
  },
  {
   "cell_type": "code",
   "execution_count": 5,
   "id": "eb35019f",
   "metadata": {},
   "outputs": [
    {
     "name": "stdout",
     "output_type": "stream",
     "text": [
      "Data Size: 2000\n",
      "Example:\n",
      ">> 토론에 참여한 사람들은 법 집행과 국가 안전보장에 대한 우려를 표명해야 할 필요성을 진지하게 받아 들이고 있습니다.\n",
      ">> 비록 그 위협(의 가능성)은 적지만, 그 잠재적인 영향력은 가히 파괴적인 것이다.\n",
      ">> 한국은 세계 에서 네번째로 원유를 많이 수입하는 나라이며, 전적으로 원유 수입에 의존하고 있다.\n",
      ">> 불과 1,379년 전이다.\n",
      ">> 대신, 그들은 \"안정\"이라는 면에서 서방 세계와 똑같은 이해 관계를 갖고 있는 각 지역의 소수 엘리트를 대표하고 있다.\n"
     ]
    }
   ],
   "source": [
    "path_to_file = os.getenv('HOME') + '/aiffel/s2s_translation/test.ko'\n",
    "\n",
    "with open(path_to_file, \"r\") as f:\n",
    "    raw_test_ko = f.read().splitlines()\n",
    "\n",
    "print(\"Data Size:\", len(raw_test_ko))\n",
    "\n",
    "print(\"Example:\")\n",
    "for sen in raw_test_ko[0:100][::20]: print(\">>\", sen)"
   ]
  },
  {
   "cell_type": "code",
   "execution_count": 6,
   "id": "4ca0b4ec",
   "metadata": {},
   "outputs": [
    {
     "name": "stdout",
     "output_type": "stream",
     "text": [
      "Data Size: 2000\n",
      "Example:\n",
      ">> Those involved in the discussions do take seriously the need to address concerns of law enforcement and national security.\n",
      ">> Even though the threat is small, the potential effects are devastating.\n",
      ">> South Korea is the world's fourth largest oil importer and wholly depends on imports of crude.\n",
      ">> That is only 1,379 years ago.\n",
      ">> Instead, they represent a small elite in each place that has a common interest with the West in “stability.”\n"
     ]
    }
   ],
   "source": [
    "path_to_file = os.getenv('HOME')+'/aiffel/s2s_translation/test.en'\n",
    "\n",
    "with open(path_to_file, \"r\") as f:\n",
    "    raw_test_en = f.read().splitlines()\n",
    "\n",
    "print(\"Data Size:\", len(raw_test_en))\n",
    "\n",
    "print(\"Example:\")\n",
    "for sen in raw_test_en[0:100][::20]: print(\">>\", sen)"
   ]
  },
  {
   "cell_type": "markdown",
   "id": "1099ab46",
   "metadata": {},
   "source": [
    "### 데이터 전처리:정제하기"
   ]
  },
  {
   "cell_type": "code",
   "execution_count": 7,
   "id": "3b5347f0",
   "metadata": {},
   "outputs": [
    {
     "name": "stdout",
     "output_type": "stream",
     "text": [
      "[('이에따라 민주당의 각 선거캠프는 오하이오주에서 공격적인 선거전략을 펼치고 있다.', 'It is in part due to aggressive pushes by both Democratic campaigns.'), ('연구원측은 ‘유럽연합(EU)의 대북 인권정책과 - 이와 관련해 국제사회로부터 압력을 받고 있는 - 북한과 김정일 체제의 대응’이라는 보고서를 제출해 이와같은 입장을 밝혔다.', \"The institute released a paper on the European Union's stance on human rights issues in the North and Pyongyang's reaction to the outside pressure.\"), ('이와 관련 클린턴은 22일 피츠버그에서 열린 선거 캠페인에서 오바마 선거 캠프가 인종차별적인 발언을 통해 자신을 궁지로 몰아넣지는 않았다고 주장했다.', 'But outside a Pittsburgh campaign event Tuesday, a reporter asked Clinton what he had meant \"when you said the Obama campaign was playing the race card on you?')] \n",
      "\n",
      "정제된 한영 코퍼스 개수 : 78968\n"
     ]
    }
   ],
   "source": [
    "cleaned_corpus = list(set(zip(raw_train_ko, raw_train_en)))\n",
    "print(cleaned_corpus[0:3], '\\n')\n",
    "print('정제된 한영 코퍼스 개수 :', len(cleaned_corpus))"
   ]
  },
  {
   "cell_type": "code",
   "execution_count": 8,
   "id": "8b320338",
   "metadata": {},
   "outputs": [],
   "source": [
    "def preprocess_sentence_ko(sentence, s_token=False, e_token=False):\n",
    "    mecab = Mecab()\n",
    "    sentence = re.sub(r\"([?.!,])\", r\" \\1 \", sentence)\n",
    "    sentence = re.sub(r'[\" \"]+', \" \", sentence)\n",
    "    sentence = re.sub(r\"[^ㄱ-ㅎ|가-힣?.!,]+\", \" \", sentence)\n",
    "\n",
    "    sentence = sentence.strip()\n",
    "\n",
    "    if s_token:\n",
    "        sentence = '<start> ' + sentence\n",
    "\n",
    "    if e_token:\n",
    "        sentence += ' <end>'\n",
    "    \n",
    "    sentence = mecab.morphs(sentence) # mecab으로 토큰화\n",
    "    \n",
    "    return sentence"
   ]
  },
  {
   "cell_type": "code",
   "execution_count": 9,
   "id": "806a3eee",
   "metadata": {},
   "outputs": [],
   "source": [
    "def preprocess_sentence_en(sentence, s_token=True, e_token=True):\n",
    "    sentence = sentence.lower().strip()\n",
    "\n",
    "    sentence = re.sub(r\"([?.!,])\", r\" \\1 \", sentence)\n",
    "    sentence = re.sub(r'[\" \"]+', \" \", sentence)\n",
    "    sentence = re.sub(r\"[^a-zA-Z?.!,]+\", \" \", sentence)\n",
    "\n",
    "    sentence = sentence.strip()\n",
    "\n",
    "    if s_token:\n",
    "        sentence = '<start> ' + sentence\n",
    "\n",
    "    if e_token:\n",
    "        sentence += ' <end>'\n",
    "    \n",
    "    sentence = sentence.split() #split()함수로 토큰화\n",
    "    \n",
    "    return sentence"
   ]
  },
  {
   "cell_type": "code",
   "execution_count": 10,
   "id": "ef4b8aa5",
   "metadata": {},
   "outputs": [],
   "source": [
    "def preprocessing(cleaned_corpus):\n",
    "    kor_corpus = []\n",
    "    eng_corpus = []\n",
    "    for sentence in cleaned_corpus:\n",
    "        sentence_ko = preprocess_sentence_ko(sentence[0])\n",
    "        sentence_en = preprocess_sentence_en(sentence[1])\n",
    "        if len(sentence_ko) <= 22 and len(sentence_en) <= 22: # 길이 44 이하만 포함\n",
    "            kor_corpus.append(sentence_ko)\n",
    "            eng_corpus.append(sentence_en)\n",
    "    \n",
    "    return kor_corpus, eng_corpus"
   ]
  },
  {
   "cell_type": "code",
   "execution_count": 11,
   "id": "5a14f640",
   "metadata": {},
   "outputs": [],
   "source": [
    "kor_corpus, eng_corpus = preprocessing(cleaned_corpus)"
   ]
  },
  {
   "cell_type": "code",
   "execution_count": 12,
   "id": "45ee2b00",
   "metadata": {},
   "outputs": [
    {
     "name": "stdout",
     "output_type": "stream",
     "text": [
      "한국어 :  ['이', '에', '따라', '민주당', '의', '각', '선거', '캠프', '는', '오하이오주', '에서', '공격', '적', '인', '선거', '전략', '을', '펼치', '고', '있', '다', '.']\n",
      "영어 :  ['<start>', 'it', 'is', 'in', 'part', 'due', 'to', 'aggressive', 'pushes', 'by', 'both', 'democratic', 'campaigns', '.', '<end>'] \n",
      "\n",
      "한국어 :  ['아카기', '장관', '은', '전임자', '가', '자살', '한', '후', ',', '지난', '월', '에', '임명', '되', '었', '다', '.']\n",
      "영어 :  ['<start>', 'akagi', 'was', 'only', 'appointed', 'in', 'june', ',', 'after', 'his', 'predecessor', 'killed', 'himself', '.', '<end>'] \n",
      "\n",
      "한국어 :  ['경제', '가', '악화', '될수록', '사람', '들', '은', '더욱', '가격', '을', '흥정', '하', '게', '된다', '.']\n",
      "영어 :  ['<start>', 'and', 'the', 'weaker', 'the', 'economy', ',', 'the', 'stronger', 'your', 'bargaining', 'power', '.', '<end>'] \n",
      "\n"
     ]
    }
   ],
   "source": [
    "for i in range(3):\n",
    "    print(\"한국어 : \", kor_corpus[i])\n",
    "    print(\"영어 : \", eng_corpus[i], '\\n')"
   ]
  },
  {
   "cell_type": "markdown",
   "id": "dd53c399",
   "metadata": {},
   "source": [
    "### 데이터 전처리: 토큰화"
   ]
  },
  {
   "cell_type": "code",
   "execution_count": 13,
   "id": "afe6358b",
   "metadata": {},
   "outputs": [],
   "source": [
    "def tokenize(corpus):\n",
    "    tokenizer = tf.keras.preprocessing.text.Tokenizer(num_words=15000, oov_token='<unk>')\n",
    "    tokenizer.fit_on_texts(corpus)\n",
    "    \n",
    "    tensor = tokenizer.texts_to_sequences(corpus)\n",
    "    \n",
    "    tensor = tf.keras.preprocessing.sequence.pad_sequences(tensor, padding='post')\n",
    "    \n",
    "    return tensor, tokenizer"
   ]
  },
  {
   "cell_type": "code",
   "execution_count": 14,
   "id": "1b1bb071",
   "metadata": {},
   "outputs": [],
   "source": [
    "# 토큰화하기\n",
    "enc_tensor, enc_tokenizer = tokenize(kor_corpus)\n",
    "dec_tensor, dec_tokenizer = tokenize(eng_corpus)"
   ]
  },
  {
   "cell_type": "markdown",
   "id": "69b15a6d",
   "metadata": {},
   "source": [
    "## 모델 설계"
   ]
  },
  {
   "cell_type": "code",
   "execution_count": 15,
   "id": "365fe483",
   "metadata": {},
   "outputs": [],
   "source": [
    "class BahdanauAttention(tf.keras.layers.Layer):\n",
    "    def __init__(self, units):\n",
    "        super(BahdanauAttention, self).__init__()\n",
    "        self.w_dec = tf.keras.layers.Dense(units)\n",
    "        self.w_enc = tf.keras.layers.Dense(units)\n",
    "        self.w_com = tf.keras.layers.Dense(1)\n",
    "    \n",
    "    def call(self, h_enc, h_dec):\n",
    "        # h_enc shape: [batch x length x units]\n",
    "        # h_dec shape: [batch x units]\n",
    "\n",
    "        h_enc = self.w_enc(h_enc)\n",
    "        h_dec = tf.expand_dims(h_dec, 1)\n",
    "        h_dec = self.w_dec(h_dec)\n",
    "\n",
    "        score = self.w_com(tf.nn.tanh(h_dec + h_enc))\n",
    "        \n",
    "        attn = tf.nn.softmax(score, axis=1)\n",
    "\n",
    "        context_vec = attn * h_enc\n",
    "        context_vec = tf.reduce_sum(context_vec, axis=1)\n",
    "\n",
    "        return context_vec, attn\n"
   ]
  },
  {
   "cell_type": "code",
   "execution_count": 16,
   "id": "c827731a",
   "metadata": {},
   "outputs": [],
   "source": [
    "# Encoder 클래스와 설계 \n",
    "\n",
    "class Encoder(tf.keras.Model):\n",
    "    def __init__(self, vocab_size, embedding_dim, enc_units):\n",
    "        super(Encoder, self).__init__()\n",
    "        \n",
    "        self.enc_units = enc_units\n",
    "        self.embedding = tf.keras.layers.Embedding(vocab_size, embedding_dim)\n",
    "        self.gru = tf.keras.layers.GRU(enc_units,\n",
    "                                       return_sequences=True)\n",
    "        \n",
    "    def call(self, x):\n",
    "        out = self.embedding(x)\n",
    "        out = self.gru(out)\n",
    "        \n",
    "        return out"
   ]
  },
  {
   "cell_type": "code",
   "execution_count": 17,
   "id": "2934257f",
   "metadata": {},
   "outputs": [],
   "source": [
    "# Decoder 클래스를 설계\n",
    "    \n",
    "class Decoder(tf.keras.Model):\n",
    "    def __init__(self, vocab_size, embedding_dim, dec_units):\n",
    "        super(Decoder, self).__init__()\n",
    "        self.dec_units = dec_units\n",
    "        self.embedding = tf.keras.layers.Embedding(vocab_size, embedding_dim)\n",
    "        self.gru = tf.keras.layers.GRU(dec_units,\n",
    "                                       return_sequences=True,\n",
    "                                       return_state=True)\n",
    "        self.fc = tf.keras.layers.Dense(vocab_size)\n",
    "\n",
    "        self.attention = BahdanauAttention(self.dec_units)\n",
    "\n",
    "    def call(self, x, h_dec, enc_out):\n",
    "        context_vec, attn = self.attention(enc_out, h_dec)\n",
    "\n",
    "        out = self.embedding(x)\n",
    "        out = tf.concat([tf.expand_dims(context_vec, 1), out], axis=-1)\n",
    "        \n",
    "        out, h_dec = self.gru(out)\n",
    "        out = tf.reshape(out, (-1, out.shape[2]))\n",
    "        out = self.fc(out)\n",
    "\n",
    "        return out, h_dec, attn"
   ]
  },
  {
   "cell_type": "code",
   "execution_count": 18,
   "id": "0f45f693",
   "metadata": {},
   "outputs": [
    {
     "name": "stdout",
     "output_type": "stream",
     "text": [
      "Encoder Output: (64, 30, 1024)\n",
      "Decoder Output: (64, 18521)\n",
      "Decoder Hidden State: (64, 1024)\n",
      "Attention: (64, 30, 1)\n"
     ]
    }
   ],
   "source": [
    "# 코드를 실행하세요.\n",
    "\n",
    "BATCH_SIZE     = 64\n",
    "SRC_VOCAB_SIZE = len(enc_tokenizer.index_word) + 1\n",
    "TGT_VOCAB_SIZE = len(dec_tokenizer.index_word) + 1\n",
    "\n",
    "units         = 1024\n",
    "embedding_dim = 512\n",
    "\n",
    "encoder = Encoder(SRC_VOCAB_SIZE, embedding_dim, units)\n",
    "decoder = Decoder(TGT_VOCAB_SIZE, embedding_dim, units)\n",
    "\n",
    "# sample input\n",
    "sequence_len = 30\n",
    "\n",
    "sample_enc = tf.random.uniform((BATCH_SIZE, sequence_len))\n",
    "sample_output = encoder(sample_enc)\n",
    "\n",
    "print ('Encoder Output:', sample_output.shape)\n",
    "\n",
    "sample_state = tf.random.uniform((BATCH_SIZE, units))\n",
    "\n",
    "sample_logits, h_dec, attn = decoder(tf.random.uniform((BATCH_SIZE, 1)),\n",
    "                                     sample_state, sample_output)\n",
    "\n",
    "print ('Decoder Output:', sample_logits.shape)\n",
    "print ('Decoder Hidden State:', h_dec.shape)\n",
    "print ('Attention:', attn.shape)"
   ]
  },
  {
   "cell_type": "markdown",
   "id": "9c8a48ba",
   "metadata": {},
   "source": [
    "## 훈련하기\n",
    " Encoder-Decoder 구조의 경우 입출력이 단순하지 않아 학습 과정을 직접 정의해줘야 함\n",
    "### (1)Optimizer & Loss"
   ]
  },
  {
   "cell_type": "code",
   "execution_count": 19,
   "id": "fd34b12b",
   "metadata": {},
   "outputs": [],
   "source": [
    "optimizer = tf.keras.optimizers.Adam()\n",
    "loss_object = tf.keras.losses.SparseCategoricalCrossentropy(\n",
    "    from_logits=True, reduction='none')\n",
    "\n",
    "def loss_function(real, pred):\n",
    "    mask = tf.math.logical_not(tf.math.equal(real, 0))\n",
    "    loss = loss_object(real, pred)\n",
    "    \n",
    "    mask = tf.cast(mask, dtype=loss.dtype)\n",
    "    loss *= mask\n",
    "    \n",
    "    return tf.reduce_mean(loss)\n"
   ]
  },
  {
   "cell_type": "markdown",
   "id": "ac8d55cd",
   "metadata": {},
   "source": [
    "여기서 fit() 함수를 사용할 수 없는 이유는 바로 Loss 함수 때문\n",
    "\n",
    "Encoder-Decoder 구조는 학습 과정이 일반적이지 않으므로 직접 Loss를 커스텀해서 사용해야 함\n",
    "\n",
    "SparseCategoricalCrossentropy() 함수는 모델이 출력한 확률 분포와 (One-hot이 아닌) 정수 인덱스 답안을 비교해 Cross Entropy값을 구함"
   ]
  },
  {
   "cell_type": "markdown",
   "id": "71c77a4d",
   "metadata": {},
   "source": [
    "### (2) train_step 구현하기\n",
    "train_step()은 학습에 필요한 것을 모두 가져가 Loss를 계산한 후 반환하는 함수"
   ]
  },
  {
   "cell_type": "code",
   "execution_count": 20,
   "id": "d06e02cc",
   "metadata": {},
   "outputs": [],
   "source": [
    "@tf.function\n",
    "def train_step(src, tgt, encoder, decoder, optimizer, dec_tok):\n",
    "    bsz = src.shape[0]\n",
    "    loss = 0\n",
    "\n",
    "    with tf.GradientTape() as tape:\n",
    "        enc_out = encoder(src)\n",
    "        h_dec = enc_out[:, -1]\n",
    "        \n",
    "        dec_src = tf.expand_dims([dec_tok.word_index['<start>']] * bsz, 1)\n",
    "\n",
    "        for t in range(1, tgt.shape[1]):\n",
    "            pred, h_dec, _ = decoder(dec_src, h_dec, enc_out)\n",
    "\n",
    "            loss += loss_function(tgt[:, t], pred)\n",
    "            dec_src = tf.expand_dims(tgt[:, t], 1)\n",
    "        \n",
    "    batch_loss = (loss / int(tgt.shape[1]))\n",
    "\n",
    "    variables = encoder.trainable_variables + decoder.trainable_variables\n",
    "    gradients = tape.gradient(loss, variables)\n",
    "    optimizer.apply_gradients(zip(gradients, variables))\n",
    "    \n",
    "    return batch_loss\n"
   ]
  },
  {
   "cell_type": "markdown",
   "id": "a8d82353",
   "metadata": {},
   "source": [
    "- @tf.function 데코레이터는 훈련 외적인 텐서플로우 연산을 GPU에서 동작하게 해 훈련을 가속할 수 있도록 도와줌\n",
    "\n",
    "첫 번째 Epoch이 다른 Epoch보다 약간의 시간이 더 걸리는 것은 데코레이터가 붙은 함수를 GPU에 등록하는 과정이 포함되어 있기 때문\n",
    "\n",
    "실제로 위 예제에서 @tf.function 를 제거할 경우, Epoch당 1.5~2배 이상 더 많은 시간이 소요된답니다! 그러니 가능하다면 사용하는 쪽이 유리\n",
    "\n",
    "- tf.GradientTape()는 학습하며 발생한 모든 연산을 기록하는 테이프"
   ]
  },
  {
   "cell_type": "markdown",
   "id": "ae259e01",
   "metadata": {},
   "source": [
    "#### train_step()의 학습 과정\n",
    "1. Encoder에 소스 문장을 전달해 컨텍스트 벡터인 enc_out 을 생성\n",
    "2. t=0일 때, Decoder의 Hidden State는 Encoder의 Final State로 정의. h_dec = enc_out[:, -1]\n",
    "3. Decoder에 입력으로 전달할 <start> 토큰 문장 생성\n",
    "4. <start> 문장과 enc_out, Hidden State를 기반으로 다음 단어(t=1)를 예측. pred\n",
    "5. 예측된 단어와 정답 간의 Loss를 구한 후, t=1의 정답 단어를 다음 입력으로 사용 (예측 단어 X)\n",
    "6. 반복!"
   ]
  },
  {
   "cell_type": "markdown",
   "id": "79e82dce",
   "metadata": {},
   "source": [
    "### (3) 훈련 시작하기"
   ]
  },
  {
   "cell_type": "code",
   "execution_count": 21,
   "id": "2a121d83",
   "metadata": {},
   "outputs": [
    {
     "name": "stderr",
     "output_type": "stream",
     "text": [
      "Epoch  1: 100%|██████████| 312/312 [01:42<00:00,  3.04it/s, Loss 4.4833]\n",
      "Epoch  2: 100%|██████████| 312/312 [01:07<00:00,  4.63it/s, Loss 4.4391]\n",
      "Epoch  3: 100%|██████████| 312/312 [01:08<00:00,  4.54it/s, Loss 4.1656]\n",
      "Epoch  4: 100%|██████████| 312/312 [01:09<00:00,  4.49it/s, Loss 4.0779]\n",
      "Epoch  5: 100%|██████████| 312/312 [01:09<00:00,  4.48it/s, Loss 4.0069]\n",
      "Epoch  6: 100%|██████████| 312/312 [01:09<00:00,  4.49it/s, Loss 3.9421]\n",
      "Epoch  7: 100%|██████████| 312/312 [01:09<00:00,  4.48it/s, Loss 3.8794]\n",
      "Epoch  8: 100%|██████████| 312/312 [01:09<00:00,  4.49it/s, Loss 3.8258]\n",
      "Epoch  9: 100%|██████████| 312/312 [01:09<00:00,  4.49it/s, Loss 3.7761]\n",
      "Epoch 10: 100%|██████████| 312/312 [01:09<00:00,  4.49it/s, Loss 3.7274]\n",
      "Epoch 11: 100%|██████████| 312/312 [01:09<00:00,  4.49it/s, Loss 3.6909]\n",
      "Epoch 12: 100%|██████████| 312/312 [01:09<00:00,  4.49it/s, Loss 3.6523]\n",
      "Epoch 13: 100%|██████████| 312/312 [01:09<00:00,  4.49it/s, Loss 3.6153]\n",
      "Epoch 14: 100%|██████████| 312/312 [01:09<00:00,  4.48it/s, Loss 3.5786]\n",
      "Epoch 15: 100%|██████████| 312/312 [01:09<00:00,  4.48it/s, Loss 3.5443]\n",
      "Epoch 16: 100%|██████████| 312/312 [01:09<00:00,  4.49it/s, Loss 3.5118]\n",
      "Epoch 17: 100%|██████████| 312/312 [01:09<00:00,  4.49it/s, Loss 3.4759]\n",
      "Epoch 18: 100%|██████████| 312/312 [01:09<00:00,  4.49it/s, Loss 3.4450]\n",
      "Epoch 19: 100%|██████████| 312/312 [01:09<00:00,  4.49it/s, Loss 3.4127]\n",
      "Epoch 20: 100%|██████████| 312/312 [01:09<00:00,  4.49it/s, Loss 3.3831]\n",
      "Epoch 21: 100%|██████████| 312/312 [01:09<00:00,  4.48it/s, Loss 3.3576]\n",
      "Epoch 22: 100%|██████████| 312/312 [01:09<00:00,  4.49it/s, Loss 3.3241]\n",
      "Epoch 23: 100%|██████████| 312/312 [01:09<00:00,  4.48it/s, Loss 3.2965]\n",
      "Epoch 24: 100%|██████████| 312/312 [01:09<00:00,  4.49it/s, Loss 3.2645]\n",
      "Epoch 25: 100%|██████████| 312/312 [01:09<00:00,  4.49it/s, Loss 3.2371]\n",
      "Epoch 26: 100%|██████████| 312/312 [01:09<00:00,  4.48it/s, Loss 3.2108]\n",
      "Epoch 27: 100%|██████████| 312/312 [01:09<00:00,  4.48it/s, Loss 3.1805]\n",
      "Epoch 28: 100%|██████████| 312/312 [01:09<00:00,  4.48it/s, Loss 3.1505]\n",
      "Epoch 29: 100%|██████████| 312/312 [01:09<00:00,  4.48it/s, Loss 3.1183]\n",
      "Epoch 30: 100%|██████████| 312/312 [01:09<00:00,  4.48it/s, Loss 3.0877]\n",
      "Epoch 31: 100%|██████████| 312/312 [01:09<00:00,  4.48it/s, Loss 3.0574]\n",
      "Epoch 32: 100%|██████████| 312/312 [01:09<00:00,  4.48it/s, Loss 3.0228]\n",
      "Epoch 33: 100%|██████████| 312/312 [01:09<00:00,  4.47it/s, Loss 2.9952]\n",
      "Epoch 34: 100%|██████████| 312/312 [01:09<00:00,  4.47it/s, Loss 2.9598]\n",
      "Epoch 35: 100%|██████████| 312/312 [01:09<00:00,  4.47it/s, Loss 2.9254]\n",
      "Epoch 36: 100%|██████████| 312/312 [01:09<00:00,  4.46it/s, Loss 2.8902]\n",
      "Epoch 37: 100%|██████████| 312/312 [01:09<00:00,  4.46it/s, Loss 2.8577]\n",
      "Epoch 38: 100%|██████████| 312/312 [01:09<00:00,  4.47it/s, Loss 2.8233]\n",
      "Epoch 39: 100%|██████████| 312/312 [01:09<00:00,  4.46it/s, Loss 2.7826]\n",
      "Epoch 40: 100%|██████████| 312/312 [01:10<00:00,  4.45it/s, Loss 2.7414]\n",
      "Epoch 41: 100%|██████████| 312/312 [01:10<00:00,  4.44it/s, Loss 2.6991]\n",
      "Epoch 42: 100%|██████████| 312/312 [01:10<00:00,  4.43it/s, Loss 2.6590]\n",
      "Epoch 43: 100%|██████████| 312/312 [01:10<00:00,  4.42it/s, Loss 2.6163]\n",
      "Epoch 44: 100%|██████████| 312/312 [01:10<00:00,  4.42it/s, Loss 2.5721]\n",
      "Epoch 45: 100%|██████████| 312/312 [01:10<00:00,  4.42it/s, Loss 2.5237]\n",
      "Epoch 46: 100%|██████████| 312/312 [01:10<00:00,  4.42it/s, Loss 2.4697]\n",
      "Epoch 47: 100%|██████████| 312/312 [01:10<00:00,  4.41it/s, Loss 2.4744]\n",
      "Epoch 48: 100%|██████████| 312/312 [01:10<00:00,  4.42it/s, Loss 2.4503]\n",
      "Epoch 49: 100%|██████████| 312/312 [01:10<00:00,  4.41it/s, Loss 2.3275]\n",
      "Epoch 50: 100%|██████████| 312/312 [01:10<00:00,  4.41it/s, Loss 2.2415]\n",
      "Epoch 51: 100%|██████████| 312/312 [01:10<00:00,  4.41it/s, Loss 2.1721]\n",
      "Epoch 52: 100%|██████████| 312/312 [01:10<00:00,  4.40it/s, Loss 2.1028]\n",
      "Epoch 53: 100%|██████████| 312/312 [01:10<00:00,  4.41it/s, Loss 2.0382]\n",
      "Epoch 54: 100%|██████████| 312/312 [01:10<00:00,  4.41it/s, Loss 1.9670]\n",
      "Epoch 55: 100%|██████████| 312/312 [01:10<00:00,  4.41it/s, Loss 1.8953]\n",
      "Epoch 56: 100%|██████████| 312/312 [01:10<00:00,  4.41it/s, Loss 1.8143]\n",
      "Epoch 57: 100%|██████████| 312/312 [01:10<00:00,  4.41it/s, Loss 1.7387]\n",
      "Epoch 58: 100%|██████████| 312/312 [01:10<00:00,  4.40it/s, Loss 1.6668]\n",
      "Epoch 59: 100%|██████████| 312/312 [01:10<00:00,  4.40it/s, Loss 1.5839]\n",
      "Epoch 60: 100%|██████████| 312/312 [01:10<00:00,  4.40it/s, Loss 1.5042]\n",
      "Epoch 61: 100%|██████████| 312/312 [01:10<00:00,  4.41it/s, Loss 1.4263]\n",
      "Epoch 62: 100%|██████████| 312/312 [01:10<00:00,  4.41it/s, Loss 1.3402]\n",
      "Epoch 63: 100%|██████████| 312/312 [01:10<00:00,  4.41it/s, Loss 1.2585]\n",
      "Epoch 64: 100%|██████████| 312/312 [01:10<00:00,  4.40it/s, Loss 1.1776]\n",
      "Epoch 65: 100%|██████████| 312/312 [01:10<00:00,  4.41it/s, Loss 1.1103]\n",
      "Epoch 66: 100%|██████████| 312/312 [01:10<00:00,  4.41it/s, Loss 1.0377]\n",
      "Epoch 67: 100%|██████████| 312/312 [01:10<00:00,  4.41it/s, Loss 0.9623]\n",
      "Epoch 68: 100%|██████████| 312/312 [01:10<00:00,  4.40it/s, Loss 0.9144]\n",
      "Epoch 69: 100%|██████████| 312/312 [01:10<00:00,  4.41it/s, Loss 0.8330]\n",
      "Epoch 70: 100%|██████████| 312/312 [01:10<00:00,  4.41it/s, Loss 0.7649]\n",
      "Epoch 71: 100%|██████████| 312/312 [01:10<00:00,  4.41it/s, Loss 0.7019]\n",
      "Epoch 72: 100%|██████████| 312/312 [01:10<00:00,  4.41it/s, Loss 0.6495]\n",
      "Epoch 73: 100%|██████████| 312/312 [01:10<00:00,  4.40it/s, Loss 0.5988]\n",
      "Epoch 74: 100%|██████████| 312/312 [01:10<00:00,  4.40it/s, Loss 0.5506]\n",
      "Epoch 75: 100%|██████████| 312/312 [01:10<00:00,  4.40it/s, Loss 0.5047]\n",
      "Epoch 76: 100%|██████████| 312/312 [01:10<00:00,  4.42it/s, Loss 0.4616]\n",
      "Epoch 77: 100%|██████████| 312/312 [01:10<00:00,  4.41it/s, Loss 0.4224]\n",
      "Epoch 78: 100%|██████████| 312/312 [01:10<00:00,  4.41it/s, Loss 0.3835]\n",
      "Epoch 79: 100%|██████████| 312/312 [01:10<00:00,  4.41it/s, Loss 0.3556]\n",
      "Epoch 80: 100%|██████████| 312/312 [01:10<00:00,  4.42it/s, Loss 0.3282]\n",
      "Epoch 81: 100%|██████████| 312/312 [01:10<00:00,  4.42it/s, Loss 0.3036]\n",
      "Epoch 82: 100%|██████████| 312/312 [01:10<00:00,  4.41it/s, Loss 0.2813]\n",
      "Epoch 83: 100%|██████████| 312/312 [01:10<00:00,  4.41it/s, Loss 0.2646]\n",
      "Epoch 84: 100%|██████████| 312/312 [01:10<00:00,  4.41it/s, Loss 0.2526]\n",
      "Epoch 85: 100%|██████████| 312/312 [01:10<00:00,  4.41it/s, Loss 0.2410]\n",
      "Epoch 86: 100%|██████████| 312/312 [01:10<00:00,  4.42it/s, Loss 0.2239]\n",
      "Epoch 87: 100%|██████████| 312/312 [01:10<00:00,  4.41it/s, Loss 0.2189]\n",
      "Epoch 88: 100%|██████████| 312/312 [01:10<00:00,  4.41it/s, Loss 0.2198]\n",
      "Epoch 89: 100%|██████████| 312/312 [01:10<00:00,  4.41it/s, Loss 0.1968]\n",
      "Epoch 90: 100%|██████████| 312/312 [01:10<00:00,  4.42it/s, Loss 0.1850]\n",
      "Epoch 91: 100%|██████████| 312/312 [01:10<00:00,  4.44it/s, Loss 0.1758]\n",
      "Epoch 92: 100%|██████████| 312/312 [01:10<00:00,  4.44it/s, Loss 0.1700]\n",
      "Epoch 93: 100%|██████████| 312/312 [01:10<00:00,  4.44it/s, Loss 0.1682]\n",
      "Epoch 94: 100%|██████████| 312/312 [01:10<00:00,  4.44it/s, Loss 0.1644]\n",
      "Epoch 95: 100%|██████████| 312/312 [01:10<00:00,  4.44it/s, Loss 0.1857]\n",
      "Epoch 96: 100%|██████████| 312/312 [01:10<00:00,  4.43it/s, Loss 0.1752]\n",
      "Epoch 97: 100%|██████████| 312/312 [01:10<00:00,  4.44it/s, Loss 0.1583]\n",
      "Epoch 98: 100%|██████████| 312/312 [01:10<00:00,  4.44it/s, Loss 0.1439]\n",
      "Epoch 99: 100%|██████████| 312/312 [01:10<00:00,  4.43it/s, Loss 0.1365]\n",
      "Epoch 100: 100%|██████████| 312/312 [01:10<00:00,  4.44it/s, Loss 0.1318]\n",
      "Epoch 101: 100%|██████████| 312/312 [01:10<00:00,  4.44it/s, Loss 0.1359]\n",
      "Epoch 102: 100%|██████████| 312/312 [01:10<00:00,  4.44it/s, Loss 0.1481]\n",
      "Epoch 103: 100%|██████████| 312/312 [01:10<00:00,  4.44it/s, Loss 0.1381]\n",
      "Epoch 104: 100%|██████████| 312/312 [01:10<00:00,  4.43it/s, Loss 0.1301]\n",
      "Epoch 105: 100%|██████████| 312/312 [01:10<00:00,  4.44it/s, Loss 0.1256]\n",
      "Epoch 106: 100%|██████████| 312/312 [01:10<00:00,  4.44it/s, Loss 0.1203]\n",
      "Epoch 107: 100%|██████████| 312/312 [01:10<00:00,  4.44it/s, Loss 0.1168]\n",
      "Epoch 108: 100%|██████████| 312/312 [01:10<00:00,  4.44it/s, Loss 0.1141]\n",
      "Epoch 109: 100%|██████████| 312/312 [01:10<00:00,  4.44it/s, Loss 0.1156]\n",
      "Epoch 110: 100%|██████████| 312/312 [01:10<00:00,  4.44it/s, Loss 0.1153]\n",
      "Epoch 111: 100%|██████████| 312/312 [01:10<00:00,  4.44it/s, Loss 0.1163]\n",
      "Epoch 112: 100%|██████████| 312/312 [01:10<00:00,  4.44it/s, Loss 0.1339]\n",
      "Epoch 113: 100%|██████████| 312/312 [01:10<00:00,  4.44it/s, Loss 0.1249]\n",
      "Epoch 114: 100%|██████████| 312/312 [01:10<00:00,  4.44it/s, Loss 0.1113]\n",
      "Epoch 115: 100%|██████████| 312/312 [01:10<00:00,  4.44it/s, Loss 0.1011]\n",
      "Epoch 116: 100%|██████████| 312/312 [01:10<00:00,  4.44it/s, Loss 0.0969]\n",
      "Epoch 117: 100%|██████████| 312/312 [01:10<00:00,  4.44it/s, Loss 0.0943]\n",
      "Epoch 118: 100%|██████████| 312/312 [01:10<00:00,  4.45it/s, Loss 0.0952]\n",
      "Epoch 119: 100%|██████████| 312/312 [01:10<00:00,  4.45it/s, Loss 0.0991]\n",
      "Epoch 120: 100%|██████████| 312/312 [01:10<00:00,  4.44it/s, Loss 0.1021]\n",
      "Epoch 121: 100%|██████████| 312/312 [01:10<00:00,  4.45it/s, Loss 0.1038]\n",
      "Epoch 122: 100%|██████████| 312/312 [01:10<00:00,  4.44it/s, Loss 0.1021]\n",
      "Epoch 123: 100%|██████████| 312/312 [01:10<00:00,  4.44it/s, Loss 0.1017]\n",
      "Epoch 124: 100%|██████████| 312/312 [01:10<00:00,  4.44it/s, Loss 0.0981]\n",
      "Epoch 125: 100%|██████████| 312/312 [01:10<00:00,  4.45it/s, Loss 0.0940]\n",
      "Epoch 126: 100%|██████████| 312/312 [01:10<00:00,  4.45it/s, Loss 0.0887]\n",
      "Epoch 127: 100%|██████████| 312/312 [01:10<00:00,  4.46it/s, Loss 0.0896]\n",
      "Epoch 128: 100%|██████████| 312/312 [01:09<00:00,  4.46it/s, Loss 0.0882]\n",
      "Epoch 129: 100%|██████████| 312/312 [01:09<00:00,  4.47it/s, Loss 0.0883]\n",
      "Epoch 130: 100%|██████████| 312/312 [01:09<00:00,  4.47it/s, Loss 0.0903]\n",
      "Epoch 131: 100%|██████████| 312/312 [01:09<00:00,  4.46it/s, Loss 0.0913]\n",
      "Epoch 132: 100%|██████████| 312/312 [01:09<00:00,  4.46it/s, Loss 0.0914]\n",
      "Epoch 133: 100%|██████████| 312/312 [01:09<00:00,  4.46it/s, Loss 0.0870]\n",
      "Epoch 134: 100%|██████████| 312/312 [01:09<00:00,  4.47it/s, Loss 0.0865]\n",
      "Epoch 135: 100%|██████████| 312/312 [01:09<00:00,  4.47it/s, Loss 0.0873]\n",
      "Epoch 136: 100%|██████████| 312/312 [01:09<00:00,  4.47it/s, Loss 0.0867]\n",
      "Epoch 137: 100%|██████████| 312/312 [01:09<00:00,  4.46it/s, Loss 0.0837]\n",
      "Epoch 138: 100%|██████████| 312/312 [01:09<00:00,  4.46it/s, Loss 0.0821]\n",
      "Epoch 139: 100%|██████████| 312/312 [01:09<00:00,  4.48it/s, Loss 0.0835]\n",
      "Epoch 140: 100%|██████████| 312/312 [01:09<00:00,  4.47it/s, Loss 0.0813]\n",
      "Epoch 141: 100%|██████████| 312/312 [01:09<00:00,  4.47it/s, Loss 0.0814]\n",
      "Epoch 142: 100%|██████████| 312/312 [01:09<00:00,  4.47it/s, Loss 0.0827]\n",
      "Epoch 143: 100%|██████████| 312/312 [01:09<00:00,  4.47it/s, Loss 0.0790]\n",
      "Epoch 144: 100%|██████████| 312/312 [01:09<00:00,  4.46it/s, Loss 0.0788]\n",
      "Epoch 145: 100%|██████████| 312/312 [01:09<00:00,  4.46it/s, Loss 0.0798]\n",
      "Epoch 146: 100%|██████████| 312/312 [01:09<00:00,  4.46it/s, Loss 0.0790]\n",
      "Epoch 147: 100%|██████████| 312/312 [01:09<00:00,  4.46it/s, Loss 0.0783]\n",
      "Epoch 148: 100%|██████████| 312/312 [01:10<00:00,  4.46it/s, Loss 0.0768]\n",
      "Epoch 149: 100%|██████████| 312/312 [01:09<00:00,  4.46it/s, Loss 0.0778]\n",
      "Epoch 150: 100%|██████████| 312/312 [01:10<00:00,  4.46it/s, Loss 0.0794]\n",
      "Epoch 151: 100%|██████████| 312/312 [01:10<00:00,  4.45it/s, Loss 0.0786]\n",
      "Epoch 152: 100%|██████████| 312/312 [01:10<00:00,  4.45it/s, Loss 0.0787]\n",
      "Epoch 153: 100%|██████████| 312/312 [01:10<00:00,  4.45it/s, Loss 0.0817]\n",
      "Epoch 154: 100%|██████████| 312/312 [01:10<00:00,  4.45it/s, Loss 0.0784]\n",
      "Epoch 155: 100%|██████████| 312/312 [01:10<00:00,  4.45it/s, Loss 0.0748]\n",
      "Epoch 156: 100%|██████████| 312/312 [01:10<00:00,  4.45it/s, Loss 0.0742]\n",
      "Epoch 157: 100%|██████████| 312/312 [01:10<00:00,  4.45it/s, Loss 0.0714]\n",
      "Epoch 158: 100%|██████████| 312/312 [01:10<00:00,  4.45it/s, Loss 0.0710]\n",
      "Epoch 159: 100%|██████████| 312/312 [01:10<00:00,  4.45it/s, Loss 0.0709]\n",
      "Epoch 160: 100%|██████████| 312/312 [01:10<00:00,  4.45it/s, Loss 0.0723]\n",
      "Epoch 161: 100%|██████████| 312/312 [01:10<00:00,  4.45it/s, Loss 0.0754]\n",
      "Epoch 162: 100%|██████████| 312/312 [01:09<00:00,  4.46it/s, Loss 0.0742]\n",
      "Epoch 163: 100%|██████████| 312/312 [01:10<00:00,  4.45it/s, Loss 0.0746]\n",
      "Epoch 164: 100%|██████████| 312/312 [01:10<00:00,  4.45it/s, Loss 0.0724]\n",
      "Epoch 165: 100%|██████████| 312/312 [01:09<00:00,  4.46it/s, Loss 0.0722]\n",
      "Epoch 166: 100%|██████████| 312/312 [01:09<00:00,  4.46it/s, Loss 0.0714]\n",
      "Epoch 167: 100%|██████████| 312/312 [01:09<00:00,  4.46it/s, Loss 0.0717]\n",
      "Epoch 168: 100%|██████████| 312/312 [01:10<00:00,  4.45it/s, Loss 0.0737]\n",
      "Epoch 169: 100%|██████████| 312/312 [01:10<00:00,  4.45it/s, Loss 0.0712]\n",
      "Epoch 170: 100%|██████████| 312/312 [01:09<00:00,  4.47it/s, Loss 0.0701]\n",
      "Epoch 171: 100%|██████████| 312/312 [01:09<00:00,  4.46it/s, Loss 0.0696]\n",
      "Epoch 172: 100%|██████████| 312/312 [01:09<00:00,  4.46it/s, Loss 0.0688]\n",
      "Epoch 173: 100%|██████████| 312/312 [01:09<00:00,  4.47it/s, Loss 0.0707]\n",
      "Epoch 174: 100%|██████████| 312/312 [01:09<00:00,  4.46it/s, Loss 0.0741]\n",
      "Epoch 175: 100%|██████████| 312/312 [01:09<00:00,  4.47it/s, Loss 0.0719]\n",
      "Epoch 176: 100%|██████████| 312/312 [01:09<00:00,  4.47it/s, Loss 0.0723]\n",
      "Epoch 177: 100%|██████████| 312/312 [01:09<00:00,  4.46it/s, Loss 0.0697]\n",
      "Epoch 178: 100%|██████████| 312/312 [01:09<00:00,  4.46it/s, Loss 0.0690]\n",
      "Epoch 179: 100%|██████████| 312/312 [01:09<00:00,  4.47it/s, Loss 0.0679]\n",
      "Epoch 180: 100%|██████████| 312/312 [01:09<00:00,  4.47it/s, Loss 0.0650]\n",
      "Epoch 181: 100%|██████████| 312/312 [01:09<00:00,  4.47it/s, Loss 0.0666]\n",
      "Epoch 182: 100%|██████████| 312/312 [01:09<00:00,  4.47it/s, Loss 0.0713]\n",
      "Epoch 183: 100%|██████████| 312/312 [01:09<00:00,  4.47it/s, Loss 0.0716]\n",
      "Epoch 184: 100%|██████████| 312/312 [01:09<00:00,  4.47it/s, Loss 0.0720]\n",
      "Epoch 185: 100%|██████████| 312/312 [01:09<00:00,  4.47it/s, Loss 0.0714]\n",
      "Epoch 186: 100%|██████████| 312/312 [01:09<00:00,  4.47it/s, Loss 0.0694]\n",
      "Epoch 187: 100%|██████████| 312/312 [01:09<00:00,  4.46it/s, Loss 0.0676]\n",
      "Epoch 188: 100%|██████████| 312/312 [01:09<00:00,  4.47it/s, Loss 0.0655]\n",
      "Epoch 189: 100%|██████████| 312/312 [01:09<00:00,  4.47it/s, Loss 0.0651]\n",
      "Epoch 190: 100%|██████████| 312/312 [01:09<00:00,  4.47it/s, Loss 0.0654]\n",
      "Epoch 191: 100%|██████████| 312/312 [01:09<00:00,  4.47it/s, Loss 0.0683]\n",
      "Epoch 192: 100%|██████████| 312/312 [01:09<00:00,  4.48it/s, Loss 0.0681]\n",
      "Epoch 193: 100%|██████████| 312/312 [01:09<00:00,  4.48it/s, Loss 0.0672]\n",
      "Epoch 194: 100%|██████████| 312/312 [01:09<00:00,  4.47it/s, Loss 0.0698]\n",
      "Epoch 195: 100%|██████████| 312/312 [01:09<00:00,  4.47it/s, Loss 0.0688]\n",
      "Epoch 196: 100%|██████████| 312/312 [01:09<00:00,  4.48it/s, Loss 0.0675]\n",
      "Epoch 197: 100%|██████████| 312/312 [01:09<00:00,  4.47it/s, Loss 0.0671]\n",
      "Epoch 198: 100%|██████████| 312/312 [01:09<00:00,  4.46it/s, Loss 0.0664]\n",
      "Epoch 199: 100%|██████████| 312/312 [01:09<00:00,  4.46it/s, Loss 0.0652]\n",
      "Epoch 200: 100%|██████████| 312/312 [01:09<00:00,  4.46it/s, Loss 0.0655]\n",
      "Epoch 201: 100%|██████████| 312/312 [01:10<00:00,  4.46it/s, Loss 0.0676]\n",
      "Epoch 202: 100%|██████████| 312/312 [01:10<00:00,  4.45it/s, Loss 0.0683]\n",
      "Epoch 203: 100%|██████████| 312/312 [01:10<00:00,  4.45it/s, Loss 0.0674]\n",
      "Epoch 204: 100%|██████████| 312/312 [01:09<00:00,  4.46it/s, Loss 0.0651]\n",
      "Epoch 205: 100%|██████████| 312/312 [01:09<00:00,  4.46it/s, Loss 0.0646]\n",
      "Epoch 206: 100%|██████████| 312/312 [01:09<00:00,  4.46it/s, Loss 0.0653]\n",
      "Epoch 207: 100%|██████████| 312/312 [01:09<00:00,  4.46it/s, Loss 0.0661]\n",
      "Epoch 208: 100%|██████████| 312/312 [01:09<00:00,  4.46it/s, Loss 0.0676]\n",
      "Epoch 209: 100%|██████████| 312/312 [01:09<00:00,  4.46it/s, Loss 0.0664]\n",
      "Epoch 210: 100%|██████████| 312/312 [01:09<00:00,  4.46it/s, Loss 0.0644]\n",
      "Epoch 211: 100%|██████████| 312/312 [01:09<00:00,  4.46it/s, Loss 0.0647]\n",
      "Epoch 212: 100%|██████████| 312/312 [01:09<00:00,  4.46it/s, Loss 0.0674]\n",
      "Epoch 213: 100%|██████████| 312/312 [01:09<00:00,  4.46it/s, Loss 0.0659]\n",
      "Epoch 214: 100%|██████████| 312/312 [01:09<00:00,  4.46it/s, Loss 0.0656]\n",
      "Epoch 215: 100%|██████████| 312/312 [01:09<00:00,  4.46it/s, Loss 0.0679]\n",
      "Epoch 216: 100%|██████████| 312/312 [01:09<00:00,  4.46it/s, Loss 0.0677]\n",
      "Epoch 217: 100%|██████████| 312/312 [01:09<00:00,  4.46it/s, Loss 0.0672]\n",
      "Epoch 218: 100%|██████████| 312/312 [01:10<00:00,  4.45it/s, Loss 0.0657]\n",
      "Epoch 219: 100%|██████████| 312/312 [01:10<00:00,  4.46it/s, Loss 0.0660]\n",
      "Epoch 220: 100%|██████████| 312/312 [01:10<00:00,  4.45it/s, Loss 0.0658]\n",
      "Epoch 221: 100%|██████████| 312/312 [01:10<00:00,  4.46it/s, Loss 0.0651]\n",
      "Epoch 222: 100%|██████████| 312/312 [01:10<00:00,  4.45it/s, Loss 0.0660]\n",
      "Epoch 223: 100%|██████████| 312/312 [01:10<00:00,  4.45it/s, Loss 0.0662]\n",
      "Epoch 224: 100%|██████████| 312/312 [01:10<00:00,  4.45it/s, Loss 0.0652]\n",
      "Epoch 225: 100%|██████████| 312/312 [01:10<00:00,  4.45it/s, Loss 0.0654]\n",
      "Epoch 226: 100%|██████████| 312/312 [01:10<00:00,  4.45it/s, Loss 0.0648]\n",
      "Epoch 227: 100%|██████████| 312/312 [01:10<00:00,  4.46it/s, Loss 0.0672]\n",
      "Epoch 228: 100%|██████████| 312/312 [01:10<00:00,  4.45it/s, Loss 0.0643]\n",
      "Epoch 229: 100%|██████████| 312/312 [01:10<00:00,  4.46it/s, Loss 0.0640]\n",
      "Epoch 230: 100%|██████████| 312/312 [01:10<00:00,  4.46it/s, Loss 0.0656]\n",
      "Epoch 231: 100%|██████████| 312/312 [01:09<00:00,  4.46it/s, Loss 0.0660]\n",
      "Epoch 232: 100%|██████████| 312/312 [01:09<00:00,  4.46it/s, Loss 0.0648]\n",
      "Epoch 233: 100%|██████████| 312/312 [01:10<00:00,  4.46it/s, Loss 0.0624]\n",
      "Epoch 234: 100%|██████████| 312/312 [01:10<00:00,  4.45it/s, Loss 0.0623]\n",
      "Epoch 235: 100%|██████████| 312/312 [01:10<00:00,  4.45it/s, Loss 0.0665]\n",
      "Epoch 236: 100%|██████████| 312/312 [01:09<00:00,  4.46it/s, Loss 0.0658]\n",
      "Epoch 237: 100%|██████████| 312/312 [01:09<00:00,  4.46it/s, Loss 0.0674]\n",
      "Epoch 238: 100%|██████████| 312/312 [01:09<00:00,  4.46it/s, Loss 0.0671]\n",
      "Epoch 239: 100%|██████████| 312/312 [01:10<00:00,  4.46it/s, Loss 0.0643]\n",
      "Epoch 240: 100%|██████████| 312/312 [01:09<00:00,  4.46it/s, Loss 0.0635]\n",
      "Epoch 241: 100%|██████████| 312/312 [01:10<00:00,  4.46it/s, Loss 0.0609]\n",
      "Epoch 242: 100%|██████████| 312/312 [01:10<00:00,  4.45it/s, Loss 0.0614]\n",
      "Epoch 243: 100%|██████████| 312/312 [01:10<00:00,  4.45it/s, Loss 0.0645]\n",
      "Epoch 244: 100%|██████████| 312/312 [01:10<00:00,  4.45it/s, Loss 0.0678]\n",
      "Epoch 245: 100%|██████████| 312/312 [01:10<00:00,  4.45it/s, Loss 0.0691]\n",
      "Epoch 246: 100%|██████████| 312/312 [01:10<00:00,  4.45it/s, Loss 0.0683]\n",
      "Epoch 247: 100%|██████████| 312/312 [01:10<00:00,  4.45it/s, Loss 0.0666]\n",
      "Epoch 248: 100%|██████████| 312/312 [01:10<00:00,  4.45it/s, Loss 0.0667]\n",
      "Epoch 249: 100%|██████████| 312/312 [01:10<00:00,  4.45it/s, Loss 0.0652]\n",
      "Epoch 250: 100%|██████████| 312/312 [01:10<00:00,  4.45it/s, Loss 0.0611]\n",
      "Epoch 251: 100%|██████████| 312/312 [01:10<00:00,  4.45it/s, Loss 0.0608]\n",
      "Epoch 252: 100%|██████████| 312/312 [01:10<00:00,  4.45it/s, Loss 0.0628]\n",
      "Epoch 253: 100%|██████████| 312/312 [01:10<00:00,  4.45it/s, Loss 0.0648]\n",
      "Epoch 254: 100%|██████████| 312/312 [01:10<00:00,  4.45it/s, Loss 0.0660]\n",
      "Epoch 255: 100%|██████████| 312/312 [01:10<00:00,  4.46it/s, Loss 0.0696]\n",
      "Epoch 256: 100%|██████████| 312/312 [01:10<00:00,  4.45it/s, Loss 0.0696]\n",
      "Epoch 257: 100%|██████████| 312/312 [01:10<00:00,  4.45it/s, Loss 0.0694]\n",
      "Epoch 258: 100%|██████████| 312/312 [01:10<00:00,  4.45it/s, Loss 0.0667]\n",
      "Epoch 259: 100%|██████████| 312/312 [01:10<00:00,  4.45it/s, Loss 0.0619]\n",
      "Epoch 260: 100%|██████████| 312/312 [01:10<00:00,  4.45it/s, Loss 0.0578]\n",
      "Epoch 261: 100%|██████████| 312/312 [01:10<00:00,  4.45it/s, Loss 0.0561]\n",
      "Epoch 262: 100%|██████████| 312/312 [01:10<00:00,  4.45it/s, Loss 0.0607]\n",
      "Epoch 263: 100%|██████████| 312/312 [01:10<00:00,  4.45it/s, Loss 0.0656]\n",
      "Epoch 264: 100%|██████████| 312/312 [01:10<00:00,  4.45it/s, Loss 0.0663]\n",
      "Epoch 265: 100%|██████████| 312/312 [01:10<00:00,  4.45it/s, Loss 0.0697]\n",
      "Epoch 266: 100%|██████████| 312/312 [01:10<00:00,  4.45it/s, Loss 0.0731]\n",
      "Epoch 267: 100%|██████████| 312/312 [01:10<00:00,  4.45it/s, Loss 0.0731]\n",
      "Epoch 268: 100%|██████████| 312/312 [01:10<00:00,  4.45it/s, Loss 0.0717]\n",
      "Epoch 269: 100%|██████████| 312/312 [01:10<00:00,  4.46it/s, Loss 0.0654]\n",
      "Epoch 270: 100%|██████████| 312/312 [01:10<00:00,  4.45it/s, Loss 0.0655]\n",
      "Epoch 271: 100%|██████████| 312/312 [01:10<00:00,  4.46it/s, Loss 0.0624]\n",
      "Epoch 272: 100%|██████████| 312/312 [01:10<00:00,  4.45it/s, Loss 0.0603]\n",
      "Epoch 273: 100%|██████████| 312/312 [01:10<00:00,  4.46it/s, Loss 0.0617]\n",
      "Epoch 274: 100%|██████████| 312/312 [01:09<00:00,  4.46it/s, Loss 0.0614]\n",
      "Epoch 275: 100%|██████████| 312/312 [01:10<00:00,  4.46it/s, Loss 0.0617]\n",
      "Epoch 276: 100%|██████████| 312/312 [01:10<00:00,  4.46it/s, Loss 0.0658]\n",
      "Epoch 277: 100%|██████████| 312/312 [01:10<00:00,  4.46it/s, Loss 0.0678]\n",
      "Epoch 278: 100%|██████████| 312/312 [01:10<00:00,  4.46it/s, Loss 0.0714]\n",
      "Epoch 279: 100%|██████████| 312/312 [01:10<00:00,  4.46it/s, Loss 0.0691]\n",
      "Epoch 280: 100%|██████████| 312/312 [01:10<00:00,  4.45it/s, Loss 0.0663]\n",
      "Epoch 281: 100%|██████████| 312/312 [01:09<00:00,  4.46it/s, Loss 0.0633]\n",
      "Epoch 282: 100%|██████████| 312/312 [01:09<00:00,  4.46it/s, Loss 0.0645]\n",
      "Epoch 283: 100%|██████████| 312/312 [01:10<00:00,  4.46it/s, Loss 0.0648]\n",
      "Epoch 284: 100%|██████████| 312/312 [01:10<00:00,  4.46it/s, Loss 0.0630]\n",
      "Epoch 285: 100%|██████████| 312/312 [01:10<00:00,  4.46it/s, Loss 0.0617]\n",
      "Epoch 286: 100%|██████████| 312/312 [01:10<00:00,  4.46it/s, Loss 0.0638]\n",
      "Epoch 287: 100%|██████████| 312/312 [01:10<00:00,  4.45it/s, Loss 0.0677]\n",
      "Epoch 288: 100%|██████████| 312/312 [01:10<00:00,  4.45it/s, Loss 0.0688]\n",
      "Epoch 289: 100%|██████████| 312/312 [01:10<00:00,  4.45it/s, Loss 0.0667]\n",
      "Epoch 290: 100%|██████████| 312/312 [01:10<00:00,  4.46it/s, Loss 0.0683]\n",
      "Epoch 291: 100%|██████████| 312/312 [01:10<00:00,  4.45it/s, Loss 0.0667]\n",
      "Epoch 292: 100%|██████████| 312/312 [01:10<00:00,  4.45it/s, Loss 0.0651]\n",
      "Epoch 293: 100%|██████████| 312/312 [01:10<00:00,  4.45it/s, Loss 0.0661]\n",
      "Epoch 294: 100%|██████████| 312/312 [01:10<00:00,  4.45it/s, Loss 0.0652]\n",
      "Epoch 295: 100%|██████████| 312/312 [01:10<00:00,  4.46it/s, Loss 0.0647]\n",
      "Epoch 296: 100%|██████████| 312/312 [01:10<00:00,  4.45it/s, Loss 0.0634]\n",
      "Epoch 297: 100%|██████████| 312/312 [01:10<00:00,  4.45it/s, Loss 0.0627]\n",
      "Epoch 298: 100%|██████████| 312/312 [01:10<00:00,  4.45it/s, Loss 0.0643]\n",
      "Epoch 299: 100%|██████████| 312/312 [01:10<00:00,  4.45it/s, Loss 0.0671]\n",
      "Epoch 300: 100%|██████████| 312/312 [01:10<00:00,  4.45it/s, Loss 0.0681]\n"
     ]
    }
   ],
   "source": [
    "from tqdm import tqdm\n",
    "import random\n",
    "\n",
    "EPOCHS = 300\n",
    "\n",
    "for epoch in range(EPOCHS):\n",
    "    total_loss = 0\n",
    "    \n",
    "    idx_list = list(range(0, enc_tensor.shape[0], BATCH_SIZE)) # 각 배치의 시작 인덱스를 idx_list 배열에 저장\n",
    "    random.shuffle(idx_list) # 학습이 원활하게 이루어질 수 있도록 인덱스를 섞음\n",
    "    t = tqdm(idx_list)\n",
    "    \n",
    "    # 각 미니배치를 train_step() 함수에서 학습합니다. train_step()은 학습에 필요한 것은 모두 가져가 Loss를 계산한 후 반환하는 함수입니다.\n",
    "    for (batch, idx) in enumerate(t):\n",
    "        batch_loss = train_step(enc_tensor[idx: idx+BATCH_SIZE],\n",
    "                                dec_tensor[idx: idx+BATCH_SIZE],\n",
    "                                encoder,\n",
    "                                decoder,\n",
    "                                optimizer,\n",
    "                                dec_tokenizer)\n",
    "        \n",
    "        total_loss += batch_loss\n",
    "        \n",
    "        t.set_description_str('Epoch %2d' % (epoch + 1)) # tqdm\n",
    "        t.set_postfix_str('Loss %.4f' % (total_loss.numpy() / (batch + 1))) # tqdm"
   ]
  },
  {
   "cell_type": "code",
   "execution_count": 22,
   "id": "2b62bd8f",
   "metadata": {},
   "outputs": [],
   "source": [
    "def evaluate(sentence, encoder, decoder):\n",
    "    attention = np.zeros((dec_tensor.shape[-1], enc_tensor.shape[-1]))\n",
    "    \n",
    "    sentence = preprocess_sentence_ko(sentence)\n",
    "    inputs = enc_tokenizer.texts_to_sequences([sentence])\n",
    "    inputs = tf.keras.preprocessing.sequence.pad_sequences(inputs,\n",
    "                                                           maxlen=enc_tensor.shape[-1],\n",
    "                                                           padding='post')\n",
    "\n",
    "    result = ''\n",
    "\n",
    "    enc_out = encoder(inputs)\n",
    "\n",
    "    dec_hidden = enc_out[:, -1]\n",
    "    dec_input = tf.expand_dims([dec_tokenizer.word_index['<start>']], 0)\n",
    "\n",
    "    for t in range(dec_tensor.shape[-1]):\n",
    "        predictions, dec_hidden, attention_weights = decoder(dec_input,\n",
    "                                                             dec_hidden,\n",
    "                                                             enc_out)\n",
    "\n",
    "        attention_weights = tf.reshape(attention_weights, (-1, ))\n",
    "        attention[t] = attention_weights.numpy()\n",
    "\n",
    "        predicted_id = \\\n",
    "        tf.argmax(tf.math.softmax(predictions, axis=-1)[0]).numpy()\n",
    "\n",
    "        result += dec_tokenizer.index_word[predicted_id] + ' '\n",
    "\n",
    "        if dec_tokenizer.index_word[predicted_id] == '<end>':\n",
    "            return result, sentence, attention\n",
    "\n",
    "        dec_input = tf.expand_dims([predicted_id], 0)\n",
    "\n",
    "    return result, sentence, attention"
   ]
  },
  {
   "cell_type": "code",
   "execution_count": 23,
   "id": "6f5a85c6",
   "metadata": {},
   "outputs": [],
   "source": [
    "def plot_attention(attention, sentence, predicted_sentence):\n",
    "    fig = plt.figure(figsize=(8,8))\n",
    "    ax = fig.add_subplot(1, 1, 1)\n",
    "    ax.matshow(attention, cmap='viridis')\n",
    "\n",
    "    fontdict = {'fontsize': 13}    # font의 크기는 마음대로 조정 가능!\n",
    "\n",
    "    ax.set_xticklabels([''] + sentence, fontdict=fontdict, rotation=90)\n",
    "    ax.set_yticklabels([''] + predicted_sentence, fontdict=fontdict)\n",
    "\n",
    "    ax.xaxis.set_major_locator(ticker.MultipleLocator(1))\n",
    "    ax.yaxis.set_major_locator(ticker.MultipleLocator(1))\n",
    "\n",
    "    plt.show()"
   ]
  },
  {
   "cell_type": "code",
   "execution_count": 24,
   "id": "63f8c692",
   "metadata": {},
   "outputs": [],
   "source": [
    "def translate(sentence, encoder, decoder):\n",
    "    result, sentence, attention = evaluate(sentence, encoder, decoder)\n",
    "\n",
    "    print('Input : %s' % (sentence))\n",
    "    print('Predicted translation : {}'.format(result))\n",
    "    \n",
    "    attention = attention[:len(result.split()), :len(sentence)]\n",
    "    plot_attention(attention, sentence, result.split(' '))"
   ]
  },
  {
   "cell_type": "code",
   "execution_count": 25,
   "id": "6cad7bb5",
   "metadata": {},
   "outputs": [
    {
     "name": "stdout",
     "output_type": "stream",
     "text": [
      "Input : ['집', '앞', '에서', '맥주', '마실래', '?']\n",
      "Predicted translation : i ask ? <end> \n"
     ]
    },
    {
     "name": "stderr",
     "output_type": "stream",
     "text": [
      "/tmp/ipykernel_47/3762993230.py:8: UserWarning: FixedFormatter should only be used together with FixedLocator\n",
      "  ax.set_xticklabels([''] + sentence, fontdict=fontdict, rotation=90)\n",
      "/tmp/ipykernel_47/3762993230.py:9: UserWarning: FixedFormatter should only be used together with FixedLocator\n",
      "  ax.set_yticklabels([''] + predicted_sentence, fontdict=fontdict)\n"
     ]
    },
    {
     "data": {
      "image/png": "[encoded data removed]",
      "text/plain": [
       "<Figure size 576x576 with 1 Axes>"
      ]
     },
     "metadata": {
      "image/png": {
       "height": 357,
       "width": 502
      },
      "needs_background": "light"
     },
     "output_type": "display_data"
    }
   ],
   "source": [
    "translate(\"집 앞에서 맥주 마실래?\", encoder, decoder)"
   ]
  },
  {
   "cell_type": "code",
   "execution_count": 27,
   "id": "7799c241",
   "metadata": {},
   "outputs": [
    {
     "name": "stdout",
     "output_type": "stream",
     "text": [
      "Input : ['사랑', '해']\n",
      "Predicted translation : love for love for love for love for love for love for love for love for love for love for love for \n"
     ]
    },
    {
     "name": "stderr",
     "output_type": "stream",
     "text": [
      "/tmp/ipykernel_47/3762993230.py:8: UserWarning: FixedFormatter should only be used together with FixedLocator\n",
      "  ax.set_xticklabels([''] + sentence, fontdict=fontdict, rotation=90)\n",
      "/tmp/ipykernel_47/3762993230.py:9: UserWarning: FixedFormatter should only be used together with FixedLocator\n",
      "  ax.set_yticklabels([''] + predicted_sentence, fontdict=fontdict)\n"
     ]
    },
    {
     "data": {
      "image/png": "[encoded data removed]",
      "text/plain": [
       "<Figure size 576x576 with 1 Axes>"
      ]
     },
     "metadata": {
      "image/png": {
       "height": 483,
       "width": 85
      },
      "needs_background": "light"
     },
     "output_type": "display_data"
    }
   ],
   "source": [
    "translate(\"사랑해\", encoder, decoder)"
   ]
  },
  {
   "cell_type": "code",
   "execution_count": 30,
   "id": "4ff572bd",
   "metadata": {},
   "outputs": [
    {
     "name": "stdout",
     "output_type": "stream",
     "text": [
      "Input : ['너', '지금', '뭐', '해', '?']\n",
      "Predicted translation : debt to happen to the reading . <end> \n"
     ]
    },
    {
     "name": "stderr",
     "output_type": "stream",
     "text": [
      "/tmp/ipykernel_47/3762993230.py:8: UserWarning: FixedFormatter should only be used together with FixedLocator\n",
      "  ax.set_xticklabels([''] + sentence, fontdict=fontdict, rotation=90)\n",
      "/tmp/ipykernel_47/3762993230.py:9: UserWarning: FixedFormatter should only be used together with FixedLocator\n",
      "  ax.set_yticklabels([''] + predicted_sentence, fontdict=fontdict)\n"
     ]
    },
    {
     "data": {
      "image/png": "[encoded data removed]",
      "text/plain": [
       "<Figure size 576x576 with 1 Axes>"
      ]
     },
     "metadata": {
      "image/png": {
       "height": 483,
       "width": 338
      },
      "needs_background": "light"
     },
     "output_type": "display_data"
    }
   ],
   "source": [
    "translate(\"너 지금 뭐해?\", encoder, decoder)"
   ]
  },
  {
   "cell_type": "markdown",
   "id": "89aef843",
   "metadata": {},
   "source": [
    "# 회고\n",
    "\n",
    "epoch을 10으로 하고 코드를 실행시키니 번역이 잘 되지 않는 모습을 보였다.\n",
    "(the the the the the the the)  \n",
    "epoch을 100으로 하니 \n",
    "(i ve me?)\n",
    "그래서 500으로 돌리다가 커널이 끊겨 \n",
    "300까지 밖에 실행시키지 못하였는데\n",
    "제대로 된 번역을 하고싶다면 어떤 모델을 쓰고 얼마나 학습시켜야하는지 궁금하다"
   ]
  }
 ],
 "metadata": {
  "kernelspec": {
   "display_name": "Python 3 (ipykernel)",
   "language": "python",
   "name": "python3"
  },
  "language_info": {
   "codemirror_mode": {
    "name": "ipython",
    "version": 3
   },
   "file_extension": ".py",
   "mimetype": "text/x-python",
   "name": "python",
   "nbconvert_exporter": "python",
   "pygments_lexer": "ipython3",
   "version": "3.9.7"
  }
 },
 "nbformat": 4,
 "nbformat_minor": 5
}
